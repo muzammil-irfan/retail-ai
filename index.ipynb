{
 "cells": [
  {
   "cell_type": "code",
   "execution_count": null,
   "metadata": {},
   "outputs": [],
   "source": [
    "print(\"Hello World!!!\")"
   ]
  },
  {
   "cell_type": "code",
   "execution_count": null,
   "metadata": {},
   "outputs": [],
   "source": [
    "import pandas as pd\n",
    "\n",
    "# Load CSV file into pandas DataFrame\n",
    "df = pd.read_csv('backend/sales_data-set.csv')"
   ]
  },
  {
   "cell_type": "code",
   "execution_count": null,
   "metadata": {},
   "outputs": [],
   "source": [
    "df"
   ]
  },
  {
   "cell_type": "code",
   "execution_count": null,
   "metadata": {},
   "outputs": [],
   "source": [
    "# Fix date format\n",
    "df['Date'] = pd.to_datetime(df['Date'], dayfirst=True, errors='coerce')"
   ]
  },
  {
   "cell_type": "code",
   "execution_count": null,
   "metadata": {},
   "outputs": [],
   "source": [
    "from datetime import datetime, timedelta\n",
    "\n",
    "# Find the maximum date in the dataset\n",
    "max_date = df['Date'].max()\n",
    "\n",
    "# Calculate the date 6 months before the max date\n",
    "six_months_ago = max_date - pd.DateOffset(months=3)\n",
    "\n",
    "# Filter the data for the last 6 months based on the max date\n",
    "df_filtered = df[df['Date'] >= six_months_ago]"
   ]
  },
  {
   "cell_type": "code",
   "execution_count": null,
   "metadata": {},
   "outputs": [],
   "source": [
    "# Generate a batch insert statement\n",
    "batch_size = 10000  # Adjust as needed\n",
    "sql_statements = []\n",
    "\n",
    "for i in range(0, len(df_filtered), batch_size):\n",
    "    batch = df_filtered.iloc[i:i + batch_size]\n",
    "    values = \", \".join(\n",
    "        f\"({row['Store']}, {row['Dept']}, '{row['Date']}', {row['Weekly_Sales']}, {str(row['IsHoliday']).upper()})\"\n",
    "        for _, row in batch.iterrows()\n",
    "    )\n",
    "    sql = f\"INSERT INTO StoreSales (store_id, dept_id, sales_date, weekly_sales, is_holiday) VALUES {values};\"\n",
    "    sql_statements.append(sql)\n",
    "\n",
    "# Join all statements into a single string\n",
    "all_sql = \"\\n\".join(sql_statements)\n",
    "\n",
    "# Print or save the SQL commands\n",
    "print(all_sql)  # or write to a .sql file\n"
   ]
  }
 ],
 "metadata": {
  "kernelspec": {
   "display_name": "base",
   "language": "python",
   "name": "python3"
  },
  "language_info": {
   "codemirror_mode": {
    "name": "ipython",
    "version": 3
   },
   "file_extension": ".py",
   "mimetype": "text/x-python",
   "name": "python",
   "nbconvert_exporter": "python",
   "pygments_lexer": "ipython3",
   "version": "3.11.7"
  }
 },
 "nbformat": 4,
 "nbformat_minor": 2
}
